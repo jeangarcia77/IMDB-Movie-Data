{
 "cells": [
  {
   "cell_type": "code",
   "execution_count": 56,
   "id": "dfc42a74",
   "metadata": {},
   "outputs": [],
   "source": [
    "import matplotlib.pyplot as plt\n",
    "import seaborn as sns\n",
    "import numpy as np\n",
    "import pandas as pd\n",
    "import os,time,json\n",
    "import tmdbsimple as tmdb\n",
    "from tqdm.notebook import tqdm_notebook\n"
   ]
  },
  {
   "cell_type": "markdown",
   "id": "f159b9a2",
   "metadata": {},
   "source": [
    "## Exploratory Data Analysis"
   ]
  },
  {
   "cell_type": "code",
   "execution_count": 5,
   "id": "276f476b",
   "metadata": {},
   "outputs": [
    {
     "data": {
      "text/plain": [
       "['Movies Datacombined_tmdb_api_data.csv.gz',\n",
       " 'Movies Datatmdb_api_results_2000.json',\n",
       " 'Movies Datatmdb_api_results_2001.json',\n",
       " 'final_tmdb_data_2000.csv.gz',\n",
       " 'final_tmdb_data_2001.csv.gz',\n",
       " 'title_akas.csv.gz',\n",
       " 'title_basics.csv.gz',\n",
       " 'title_ratings.csv.gz']"
      ]
     },
     "execution_count": 5,
     "metadata": {},
     "output_type": "execute_result"
    }
   ],
   "source": [
    "FOLDER = \"Data/Movies Data\"\n",
    "sorted(os.listdir(FOLDER))"
   ]
  },
  {
   "cell_type": "code",
   "execution_count": 6,
   "id": "548589dd",
   "metadata": {},
   "outputs": [
    {
     "name": "stdout",
     "output_type": "stream",
     "text": [
      "<class 'pandas.core.frame.DataFrame'>\n",
      "RangeIndex: 2824 entries, 0 to 2823\n",
      "Data columns (total 26 columns):\n",
      " #   Column                 Non-Null Count  Dtype  \n",
      "---  ------                 --------------  -----  \n",
      " 0   adult                  2824 non-null   bool   \n",
      " 1   backdrop_path          1309 non-null   object \n",
      " 2   belongs_to_collection  198 non-null    object \n",
      " 3   budget                 2824 non-null   int64  \n",
      " 4   genres                 2824 non-null   object \n",
      " 5   homepage               223 non-null    object \n",
      " 6   id                     2824 non-null   int64  \n",
      " 7   imdb_id                2824 non-null   object \n",
      " 8   original_language      2824 non-null   object \n",
      " 9   original_title         2824 non-null   object \n",
      " 10  overview               2764 non-null   object \n",
      " 11  popularity             2824 non-null   float64\n",
      " 12  poster_path            2398 non-null   object \n",
      " 13  production_companies   2824 non-null   object \n",
      " 14  production_countries   2824 non-null   object \n",
      " 15  release_date           2785 non-null   object \n",
      " 16  revenue                2824 non-null   int64  \n",
      " 17  runtime                2764 non-null   float64\n",
      " 18  spoken_languages       2824 non-null   object \n",
      " 19  status                 2824 non-null   object \n",
      " 20  tagline                1087 non-null   object \n",
      " 21  title                  2824 non-null   object \n",
      " 22  video                  2824 non-null   bool   \n",
      " 23  vote_average           2824 non-null   float64\n",
      " 24  vote_count             2824 non-null   int64  \n",
      " 25  certification          831 non-null    object \n",
      "dtypes: bool(2), float64(3), int64(4), object(17)\n",
      "memory usage: 535.1+ KB\n"
     ]
    }
   ],
   "source": [
    "df = pd.read_csv('Data/Movies Data/Movies Datacombined_tmdb_api_data.csv.gz')\n",
    "df.info()"
   ]
  },
  {
   "cell_type": "markdown",
   "id": "c2d302cc",
   "metadata": {},
   "source": [
    "## 1: How many movies had at least some valid financial information (values > 0 for budget OR revenue)?"
   ]
  },
  {
   "cell_type": "code",
   "execution_count": 79,
   "id": "e8a6c443",
   "metadata": {},
   "outputs": [
    {
     "name": "stdout",
     "output_type": "stream",
     "text": [
      "- Movies with > 0 for budget:\n"
     ]
    },
    {
     "data": {
      "text/plain": [
       "False    0.806303\n",
       "True     0.193697\n",
       "Name: budget, dtype: float64"
      ]
     },
     "metadata": {},
     "output_type": "display_data"
    },
    {
     "name": "stdout",
     "output_type": "stream",
     "text": [
      "- Movies with > 0 for revenue:\n"
     ]
    },
    {
     "data": {
      "text/plain": [
       "False    0.845609\n",
       "True     0.154391\n",
       "Name: revenue, dtype: float64"
      ]
     },
     "metadata": {},
     "output_type": "display_data"
    }
   ],
   "source": [
    "## save separeate filters for movie with budget/revenue >0 \n",
    "budget_filter = df['budget'] > 0\n",
    "revenue_filter = df['revenue'] > 0\n",
    "\n",
    "\n",
    "# Value counts\n",
    "print('- Movies with > 0 for budget:')\n",
    "display(budget_filter.value_counts(normalize=True))\n",
    "\n",
    "print('- Movies with > 0 for revenue:')\n",
    "display(revenue_filter.value_counts(normalize=True))"
   ]
  },
  {
   "cell_type": "code",
   "execution_count": 80,
   "id": "8c55da8a",
   "metadata": {},
   "outputs": [
    {
     "data": {
      "image/png": "[encoded data removed]",
      "text/plain": [
       "<Figure size 432x288 with 1 Axes>"
      ]
     },
     "metadata": {
      "needs_background": "light"
     },
     "output_type": "display_data"
    }
   ],
   "source": [
    "ax = sns.countplot(x=budget_filter)\n",
    "ax.set_title('# of Movies with SOME Valid Financial Data');"
   ]
  },
  {
   "cell_type": "markdown",
   "id": "d5ce014e",
   "metadata": {},
   "source": [
    "- 19% of the budget data has some valid financial data"
   ]
  },
  {
   "cell_type": "code",
   "execution_count": 81,
   "id": "1faad0c1",
   "metadata": {},
   "outputs": [
    {
     "data": {
      "image/png": "[encoded data removed]",
      "text/plain": [
       "<Figure size 432x288 with 1 Axes>"
      ]
     },
     "metadata": {
      "needs_background": "light"
     },
     "output_type": "display_data"
    }
   ],
   "source": [
    "ax = sns.countplot(x=revenue_filter)\n",
    "ax.set_title('# of Movies with SOME Valid Financial Data');"
   ]
  },
  {
   "cell_type": "markdown",
   "id": "d1186ee5",
   "metadata": {},
   "source": [
    "- 15% of the revenue data has some valid financial data"
   ]
  },
  {
   "cell_type": "markdown",
   "id": "d9fb6f43",
   "metadata": {},
   "source": [
    "## 2: How many movies are there in each of the certification categories (G/PG/PG-13/R)?"
   ]
  },
  {
   "cell_type": "code",
   "execution_count": 82,
   "id": "ecffab7b",
   "metadata": {},
   "outputs": [
    {
     "data": {
      "text/plain": [
       "R        455\n",
       "PG-13    183\n",
       "NR        87\n",
       "PG        70\n",
       "G         30\n",
       "NC-17      6\n",
       "Name: certification, dtype: int64"
      ]
     },
     "execution_count": 82,
     "metadata": {},
     "output_type": "execute_result"
    }
   ],
   "source": [
    "df['certification'].value_counts()"
   ]
  },
  {
   "cell_type": "code",
   "execution_count": 83,
   "id": "de487f6d",
   "metadata": {},
   "outputs": [],
   "source": [
    "# Fix cert column with inconsistent values - Not Rated (NR)\n",
    "fix_cert = {'UR':'NR',\n",
    "             'Not Rated':'NR',\n",
    "             'Unrated':'NR',\n",
    "             '-':'NR',\n",
    "             '10':np.nan,\n",
    "             'ScreamFest Horror Film Festival':'NR'}\n",
    "\n",
    "df['certification'] = df['certification'].replace(fix_cert)"
   ]
  },
  {
   "cell_type": "code",
   "execution_count": 84,
   "id": "1a1a8153",
   "metadata": {},
   "outputs": [
    {
     "data": {
      "image/png": "[encoded data removed]",
      "text/plain": [
       "<Figure size 432x288 with 1 Axes>"
      ]
     },
     "metadata": {
      "needs_background": "light"
     },
     "output_type": "display_data"
    }
   ],
   "source": [
    "ax = sns.countplot(data=df, x='certification');\n",
    "ax.set_title('Number of Movies in Each Certification',y=1.08);\n",
    "\n"
   ]
  },
  {
   "cell_type": "code",
   "execution_count": 85,
   "id": "a59e08dc",
   "metadata": {},
   "outputs": [
    {
     "data": {
      "text/plain": [
       "R        455\n",
       "PG-13    183\n",
       "NR        87\n",
       "PG        70\n",
       "G         30\n",
       "NC-17      6\n",
       "Name: certification, dtype: int64"
      ]
     },
     "execution_count": 85,
     "metadata": {},
     "output_type": "execute_result"
    }
   ],
   "source": [
    "# Number of movies per Certification\n",
    "\n",
    "df['certification'].value_counts()"
   ]
  },
  {
   "cell_type": "markdown",
   "id": "a8d52956",
   "metadata": {},
   "source": [
    "## 4: What is the average revenue per certification category?"
   ]
  },
  {
   "cell_type": "code",
   "execution_count": 103,
   "id": "1de408d6",
   "metadata": {},
   "outputs": [
    {
     "name": "stderr",
     "output_type": "stream",
     "text": [
      "C:\\Users\\JEANCA~1\\AppData\\Local\\Temp/ipykernel_20052/1874873190.py:6: UserWarning: FixedFormatter should only be used together with FixedLocator\n",
      "  plt.gca().set_yticklabels(['{:,.0f}'.format(x) for x in current_values]);\n"
     ]
    },
    {
     "data": {
      "image/png": "[encoded data removed]",
      "text/plain": [
       "<Figure size 432x288 with 1 Axes>"
      ]
     },
     "metadata": {
      "needs_background": "light"
     },
     "output_type": "display_data"
    }
   ],
   "source": [
    "df_avg_rev = df.groupby('certification')['revenue'].mean()\n",
    "df_avg_rev.plot.bar(x='certification', y='revenue', title='Average Revenue Per MPAA Rating');\n",
    "\n",
    "current_values = plt.gca().get_yticks()\n",
    "# using format string '{:.0f}' here but you can choose others\n",
    "plt.gca().set_yticklabels(['{:,.0f}'.format(x) for x in current_values]);\n"
   ]
  },
  {
   "cell_type": "markdown",
   "id": "838bc0bc",
   "metadata": {},
   "source": [
    "## 5: What is the average budget per certification category?"
   ]
  },
  {
   "cell_type": "code",
   "execution_count": 104,
   "id": "02852f88",
   "metadata": {},
   "outputs": [
    {
     "name": "stderr",
     "output_type": "stream",
     "text": [
      "C:\\Users\\JEANCA~1\\AppData\\Local\\Temp/ipykernel_20052/190773994.py:6: UserWarning: FixedFormatter should only be used together with FixedLocator\n",
      "  plt.gca().set_yticklabels(['{:,.0f}'.format(x) for x in current_values]);\n"
     ]
    },
    {
     "data": {
      "image/png": "[encoded data removed]",
      "text/plain": [
       "<Figure size 432x288 with 1 Axes>"
      ]
     },
     "metadata": {
      "needs_background": "light"
     },
     "output_type": "display_data"
    }
   ],
   "source": [
    "df_avg_bud = df.groupby('certification')['budget'].mean()\n",
    "df_avg_bud.plot.bar(x='certification', y='budget', title='Average Budget Per MPAA Rating');\n",
    "\n",
    "current_values = plt.gca().get_yticks()\n",
    "# using format string '{:.0f}' here but you can choose others\n",
    "plt.gca().set_yticklabels(['{:,.0f}'.format(x) for x in current_values]);"
   ]
  },
  {
   "cell_type": "code",
   "execution_count": null,
   "id": "7b8932cb",
   "metadata": {},
   "outputs": [],
   "source": []
  }
 ],
 "metadata": {
  "kernelspec": {
   "display_name": "Python (dojo-env)",
   "language": "python",
   "name": "dojo-env"
  },
  "language_info": {
   "codemirror_mode": {
    "name": "ipython",
    "version": 3
   },
   "file_extension": ".py",
   "mimetype": "text/x-python",
   "name": "python",
   "nbconvert_exporter": "python",
   "pygments_lexer": "ipython3",
   "version": "3.9.7"
  }
 },
 "nbformat": 4,
 "nbformat_minor": 5
}
